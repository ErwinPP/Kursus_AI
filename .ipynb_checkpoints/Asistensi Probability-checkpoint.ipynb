{
 "cells": [
  {
   "cell_type": "markdown",
   "id": "93672568-d28a-414a-9f95-faa40d60577f",
   "metadata": {
    "tags": []
   },
   "source": [
    "# Sets and Venn Diagram"
   ]
  },
  {
   "cell_type": "code",
   "execution_count": 34,
   "id": "05229d3e-1b76-4c1d-9636-081a2694a891",
   "metadata": {},
   "outputs": [],
   "source": [
    "A= {3,2,1}"
   ]
  },
  {
   "cell_type": "code",
   "execution_count": 35,
   "id": "e34d27cb-6682-4188-8878-c7bab60da42c",
   "metadata": {},
   "outputs": [
    {
     "data": {
      "text/plain": [
       "set"
      ]
     },
     "execution_count": 35,
     "metadata": {},
     "output_type": "execute_result"
    }
   ],
   "source": [
    "type (A)"
   ]
  },
  {
   "cell_type": "code",
   "execution_count": 36,
   "id": "46b052be-fa72-490e-8bfb-51888614693d",
   "metadata": {},
   "outputs": [
    {
     "data": {
      "text/plain": [
       "{1, 2, 3}"
      ]
     },
     "execution_count": 36,
     "metadata": {},
     "output_type": "execute_result"
    }
   ],
   "source": [
    "A"
   ]
  },
  {
   "cell_type": "code",
   "execution_count": 37,
   "id": "09dda7a9-060d-49cf-9103-d1427c6cfe57",
   "metadata": {},
   "outputs": [
    {
     "data": {
      "text/plain": [
       "3"
      ]
     },
     "execution_count": 37,
     "metadata": {},
     "output_type": "execute_result"
    }
   ],
   "source": [
    "len(A)"
   ]
  },
  {
   "cell_type": "code",
   "execution_count": 38,
   "id": "5c0661a6-32e5-497a-8768-568350fb2172",
   "metadata": {},
   "outputs": [],
   "source": [
    "A = {1,2,3,4,5,6,7,8}\n",
    "B = {6,7,8,9,10}\n"
   ]
  },
  {
   "cell_type": "code",
   "execution_count": 39,
   "id": "5e76903b-97cb-4419-abc2-1db6363be59a",
   "metadata": {},
   "outputs": [
    {
     "data": {
      "text/plain": [
       "set"
      ]
     },
     "execution_count": 39,
     "metadata": {},
     "output_type": "execute_result"
    }
   ],
   "source": [
    "type(A)"
   ]
  },
  {
   "cell_type": "code",
   "execution_count": 40,
   "id": "1c5ea6ba-86e5-4688-ba78-0f5c7de6eb39",
   "metadata": {},
   "outputs": [
    {
     "data": {
      "text/plain": [
       "set"
      ]
     },
     "execution_count": 40,
     "metadata": {},
     "output_type": "execute_result"
    }
   ],
   "source": [
    "type(B)"
   ]
  },
  {
   "cell_type": "code",
   "execution_count": 41,
   "id": "39ac7dbd-2085-4842-81ca-07bbb80d7759",
   "metadata": {},
   "outputs": [
    {
     "data": {
      "text/plain": [
       "{1, 2, 3, 4, 5, 6, 7, 8, 9, 10}"
      ]
     },
     "execution_count": 41,
     "metadata": {},
     "output_type": "execute_result"
    }
   ],
   "source": [
    "A|B"
   ]
  },
  {
   "cell_type": "code",
   "execution_count": 42,
   "id": "0c3201f3-63a4-4e05-ae2a-35940618e074",
   "metadata": {},
   "outputs": [],
   "source": [
    "import matplotlib.pyplot as plt\n",
    "import matplotlib_venn as venn"
   ]
  },
  {
   "cell_type": "code",
   "execution_count": 87,
   "id": "3b25f011-be72-464a-abbc-ec492d83ea3c",
   "metadata": {},
   "outputs": [
    {
     "data": {
      "text/plain": [
       "{1, 2, 6, 8, 9, 10, 11, 15, 16, 17}"
      ]
     },
     "execution_count": 87,
     "metadata": {},
     "output_type": "execute_result"
    }
   ],
   "source": [
    "A\n",
    "B"
   ]
  },
  {
   "cell_type": "code",
   "execution_count": 44,
   "id": "8d56f01d-8801-4f24-a6be-f9288f394603",
   "metadata": {},
   "outputs": [
    {
     "data": {
      "text/plain": [
       "{1, 2, 3, 4, 5, 6, 7, 8}"
      ]
     },
     "execution_count": 44,
     "metadata": {},
     "output_type": "execute_result"
    }
   ],
   "source": [
    "A"
   ]
  },
  {
   "cell_type": "code",
   "execution_count": 45,
   "id": "7a0328b1-9438-477b-a91f-885cac3c0607",
   "metadata": {},
   "outputs": [
    {
     "data": {
      "text/plain": [
       "{6, 7, 8, 9, 10}"
      ]
     },
     "execution_count": 45,
     "metadata": {},
     "output_type": "execute_result"
    }
   ],
   "source": [
    "B"
   ]
  },
  {
   "cell_type": "code",
   "execution_count": 46,
   "id": "1b80cfd6-1ab4-459a-8877-3bb5cac73bcc",
   "metadata": {},
   "outputs": [
    {
     "data": {
      "text/plain": [
       "<matplotlib_venn._common.VennDiagram at 0x209a9022070>"
      ]
     },
     "execution_count": 46,
     "metadata": {},
     "output_type": "execute_result"
    },
    {
     "data": {
      "image/png": "[encoded data removed]",
      "text/plain": [
       "<Figure size 432x288 with 1 Axes>"
      ]
     },
     "metadata": {},
     "output_type": "display_data"
    }
   ],
   "source": [
    "venn.venn2([A,B], set_labels=('A','B'))\n",
    "#venn2 = 2 himpunan"
   ]
  },
  {
   "cell_type": "code",
   "execution_count": 47,
   "id": "2c84362a-15b1-4426-8f3c-4ded032b607b",
   "metadata": {},
   "outputs": [
    {
     "data": {
      "text/plain": [
       "<matplotlib_venn._common.VennDiagram at 0x209a8f16fd0>"
      ]
     },
     "execution_count": 47,
     "metadata": {},
     "output_type": "execute_result"
    },
    {
     "data": {
      "image/png": "[encoded data removed]",
      "text/plain": [
       "<Figure size 432x288 with 1 Axes>"
      ]
     },
     "metadata": {},
     "output_type": "display_data"
    }
   ],
   "source": [
    "venn.venn2(subsets=[25,10,25], set_labels=('biasa','obligasi'))\n",
    "#nilai set langsung dimasukkan, karena set belum didefinisikan sebelumnya dlm variabel [25,10,25] [A,B,A|B]"
   ]
  },
  {
   "cell_type": "code",
   "execution_count": 48,
   "id": "0ed43297-f5b5-4df5-8c7f-b157e3e03710",
   "metadata": {},
   "outputs": [],
   "source": [
    "A = {1,2,3,4,5,6,7,8,9,10,20}\n",
    "B = {1,2,6,8,9,10,11,15,16,17}\n",
    "C = {5,6,7,11,12,13,14,20,21}\n"
   ]
  },
  {
   "cell_type": "code",
   "execution_count": 49,
   "id": "6be22ccc-e090-45ce-b174-98468fa183c4",
   "metadata": {},
   "outputs": [
    {
     "data": {
      "text/plain": [
       "<matplotlib_venn._common.VennDiagram at 0x209a8fe87c0>"
      ]
     },
     "execution_count": 49,
     "metadata": {},
     "output_type": "execute_result"
    },
    {
     "data": {
      "image/png": "[encoded data removed]",
      "text/plain": [
       "<Figure size 432x288 with 1 Axes>"
      ]
     },
     "metadata": {},
     "output_type": "display_data"
    }
   ],
   "source": [
    "venn.venn3([A,B,C], set_labels=('A','B','C'))"
   ]
  },
  {
   "cell_type": "markdown",
   "id": "9bf7b948-fe5c-4f0f-8727-839d90b39564",
   "metadata": {
    "tags": []
   },
   "source": [
    "## Combinatorics"
   ]
  },
  {
   "cell_type": "code",
   "execution_count": 50,
   "id": "59d7b80d-3b06-405b-9df3-63a8b9983454",
   "metadata": {},
   "outputs": [],
   "source": [
    "from itertools import permutations"
   ]
  },
  {
   "cell_type": "code",
   "execution_count": 51,
   "id": "5ec39da1-1b88-4b2f-9168-13c2864594b5",
   "metadata": {},
   "outputs": [],
   "source": [
    "huruf = {'A','H','L','O'}"
   ]
  },
  {
   "cell_type": "code",
   "execution_count": 52,
   "id": "5fcba8e8-b5c7-47ed-b4b8-1869f95e6d84",
   "metadata": {},
   "outputs": [],
   "source": [
    "perm = permutations(huruf)\n",
    "a = list(perm)"
   ]
  },
  {
   "cell_type": "code",
   "execution_count": 53,
   "id": "6e522cce-4eba-48a7-934b-43b88207474f",
   "metadata": {},
   "outputs": [
    {
     "data": {
      "text/plain": [
       "set"
      ]
     },
     "execution_count": 53,
     "metadata": {},
     "output_type": "execute_result"
    }
   ],
   "source": [
    "type (huruf)"
   ]
  },
  {
   "cell_type": "code",
   "execution_count": 54,
   "id": "2c454d95-97d6-4b08-90f8-80efeceeeebd",
   "metadata": {},
   "outputs": [],
   "source": [
    "k = 2\n",
    "perm_k = permutations(huruf, k)"
   ]
  },
  {
   "cell_type": "code",
   "execution_count": 55,
   "id": "9045066a-d307-4e73-950b-7e10485a0a41",
   "metadata": {},
   "outputs": [
    {
     "name": "stdout",
     "output_type": "stream",
     "text": [
      "('H', 'O')\n",
      "('H', 'A')\n",
      "('H', 'L')\n",
      "('O', 'H')\n",
      "('O', 'A')\n",
      "('O', 'L')\n",
      "('A', 'H')\n",
      "('A', 'O')\n",
      "('A', 'L')\n",
      "('L', 'H')\n",
      "('L', 'O')\n",
      "('L', 'A')\n"
     ]
    }
   ],
   "source": [
    "for i in list(perm_k):\n",
    "    print(i)"
   ]
  },
  {
   "cell_type": "code",
   "execution_count": 66,
   "id": "0cea1a52-6480-4aa7-beef-92fe7fcfef93",
   "metadata": {},
   "outputs": [
    {
     "data": {
      "text/plain": [
       "[('C', 'B', 'E'),\n",
       " ('C', 'B', 'D'),\n",
       " ('C', 'B', 'A'),\n",
       " ('C', 'E', 'B'),\n",
       " ('C', 'E', 'D'),\n",
       " ('C', 'E', 'A'),\n",
       " ('C', 'D', 'B'),\n",
       " ('C', 'D', 'E'),\n",
       " ('C', 'D', 'A'),\n",
       " ('C', 'A', 'B'),\n",
       " ('C', 'A', 'E'),\n",
       " ('C', 'A', 'D'),\n",
       " ('B', 'C', 'E'),\n",
       " ('B', 'C', 'D'),\n",
       " ('B', 'C', 'A'),\n",
       " ('B', 'E', 'C'),\n",
       " ('B', 'E', 'D'),\n",
       " ('B', 'E', 'A'),\n",
       " ('B', 'D', 'C'),\n",
       " ('B', 'D', 'E'),\n",
       " ('B', 'D', 'A'),\n",
       " ('B', 'A', 'C'),\n",
       " ('B', 'A', 'E'),\n",
       " ('B', 'A', 'D'),\n",
       " ('E', 'C', 'B'),\n",
       " ('E', 'C', 'D'),\n",
       " ('E', 'C', 'A'),\n",
       " ('E', 'B', 'C'),\n",
       " ('E', 'B', 'D'),\n",
       " ('E', 'B', 'A'),\n",
       " ('E', 'D', 'C'),\n",
       " ('E', 'D', 'B'),\n",
       " ('E', 'D', 'A'),\n",
       " ('E', 'A', 'C'),\n",
       " ('E', 'A', 'B'),\n",
       " ('E', 'A', 'D'),\n",
       " ('D', 'C', 'B'),\n",
       " ('D', 'C', 'E'),\n",
       " ('D', 'C', 'A'),\n",
       " ('D', 'B', 'C'),\n",
       " ('D', 'B', 'E'),\n",
       " ('D', 'B', 'A'),\n",
       " ('D', 'E', 'C'),\n",
       " ('D', 'E', 'B'),\n",
       " ('D', 'E', 'A'),\n",
       " ('D', 'A', 'C'),\n",
       " ('D', 'A', 'B'),\n",
       " ('D', 'A', 'E'),\n",
       " ('A', 'C', 'B'),\n",
       " ('A', 'C', 'E'),\n",
       " ('A', 'C', 'D'),\n",
       " ('A', 'B', 'C'),\n",
       " ('A', 'B', 'E'),\n",
       " ('A', 'B', 'D'),\n",
       " ('A', 'E', 'C'),\n",
       " ('A', 'E', 'B'),\n",
       " ('A', 'E', 'D'),\n",
       " ('A', 'D', 'C'),\n",
       " ('A', 'D', 'B'),\n",
       " ('A', 'D', 'E')]"
      ]
     },
     "execution_count": 66,
     "metadata": {},
     "output_type": "execute_result"
    }
   ],
   "source": [
    "siswa = {'A','B','C','D','E'}\n",
    "k=3\n",
    "per = permutations(siswa, k)\n",
    "list(per)"
   ]
  },
  {
   "cell_type": "code",
   "execution_count": 68,
   "id": "401b58f9-1170-464b-a36b-f816757831d9",
   "metadata": {},
   "outputs": [
    {
     "data": {
      "text/plain": [
       "60"
      ]
     },
     "execution_count": 68,
     "metadata": {},
     "output_type": "execute_result"
    }
   ],
   "source": [
    "per = permutations(siswa, k)\n",
    "len(list(per))"
   ]
  },
  {
   "cell_type": "code",
   "execution_count": 76,
   "id": "cb31b5cf-ff12-4b7b-a550-7639038262b6",
   "metadata": {},
   "outputs": [],
   "source": [
    "from itertools import combinations"
   ]
  },
  {
   "cell_type": "code",
   "execution_count": 58,
   "id": "e9b1c398-0a22-46d9-812f-853c8e435c36",
   "metadata": {},
   "outputs": [],
   "source": [
    "teman = {'Joko', 'Budi', 'Seno'}"
   ]
  },
  {
   "cell_type": "code",
   "execution_count": 59,
   "id": "8fc8e3e5-45d9-4a3c-ad05-0ae7373bd883",
   "metadata": {},
   "outputs": [
    {
     "name": "stdout",
     "output_type": "stream",
     "text": [
      "('Joko', 'Seno')\n",
      "('Joko', 'Budi')\n",
      "('Seno', 'Budi')\n"
     ]
    }
   ],
   "source": [
    "comb = combinations(teman,2)\n",
    "for i in list(comb):\n",
    "    print(i)"
   ]
  },
  {
   "cell_type": "code",
   "execution_count": 60,
   "id": "f1d91633-ea55-4f54-ad26-2ee771ccd9ff",
   "metadata": {},
   "outputs": [
    {
     "data": {
      "text/plain": [
       "3"
      ]
     },
     "execution_count": 60,
     "metadata": {},
     "output_type": "execute_result"
    }
   ],
   "source": [
    "comb = combinations(teman,2)\n",
    "len(list(comb))"
   ]
  },
  {
   "cell_type": "code",
   "execution_count": 81,
   "id": "f2d7b677-2e11-4a13-b39e-a917b4f6dfef",
   "metadata": {},
   "outputs": [
    {
     "name": "stdout",
     "output_type": "stream",
     "text": [
      "('C', 'B', 'E')\n",
      "('C', 'B', 'D')\n",
      "('C', 'B', 'A')\n",
      "('C', 'E', 'D')\n",
      "('C', 'E', 'A')\n",
      "('C', 'D', 'A')\n",
      "('B', 'E', 'D')\n",
      "('B', 'E', 'A')\n",
      "('B', 'D', 'A')\n",
      "('E', 'D', 'A')\n"
     ]
    }
   ],
   "source": [
    "siswa = {'A','B','C','D','E'}\n",
    "k=3\n",
    "comb = combinations(siswa, k)\n",
    "for i in list(comb):\n",
    "    print (i)"
   ]
  },
  {
   "cell_type": "code",
   "execution_count": 78,
   "id": "dba61e32-365c-4c3b-8d79-e7ac1452d441",
   "metadata": {},
   "outputs": [
    {
     "data": {
      "text/plain": [
       "10"
      ]
     },
     "execution_count": 78,
     "metadata": {},
     "output_type": "execute_result"
    }
   ],
   "source": [
    "comb = combinations(siswa, k)\n",
    "len(list(comb))"
   ]
  },
  {
   "cell_type": "markdown",
   "id": "b9f06d46-5f28-4fd8-b254-c0e7128bc94e",
   "metadata": {},
   "source": [
    "### Case Study: Coffee shop (tidak ada bahan yg diwajibkan)"
   ]
  },
  {
   "cell_type": "code",
   "execution_count": 98,
   "id": "3a7a235e-64ce-4ff6-b3cc-0fc8648510b6",
   "metadata": {},
   "outputs": [
    {
     "name": "stdout",
     "output_type": "stream",
     "text": [
      "kombinasi-1 : ('Caramel', 'Salt', 'Boba', 'Sugar')\n",
      "kombinasi-2 : ('Caramel', 'Salt', 'Boba', 'Kopi')\n",
      "kombinasi-3 : ('Caramel', 'Salt', 'Boba', 'Foam')\n",
      "kombinasi-4 : ('Caramel', 'Salt', 'Sugar', 'Kopi')\n",
      "kombinasi-5 : ('Caramel', 'Salt', 'Sugar', 'Foam')\n",
      "kombinasi-6 : ('Caramel', 'Salt', 'Kopi', 'Foam')\n",
      "kombinasi-7 : ('Caramel', 'Boba', 'Sugar', 'Kopi')\n",
      "kombinasi-8 : ('Caramel', 'Boba', 'Sugar', 'Foam')\n",
      "kombinasi-9 : ('Caramel', 'Boba', 'Kopi', 'Foam')\n",
      "kombinasi-10 : ('Caramel', 'Sugar', 'Kopi', 'Foam')\n",
      "kombinasi-11 : ('Salt', 'Boba', 'Sugar', 'Kopi')\n",
      "kombinasi-12 : ('Salt', 'Boba', 'Sugar', 'Foam')\n",
      "kombinasi-13 : ('Salt', 'Boba', 'Kopi', 'Foam')\n",
      "kombinasi-14 : ('Salt', 'Sugar', 'Kopi', 'Foam')\n",
      "kombinasi-15 : ('Boba', 'Sugar', 'Kopi', 'Foam')\n",
      "---\n",
      "Cost yang diperlukan untuk melakukan 15 eksperimen adalah Rp 2,250,000\n"
     ]
    }
   ],
   "source": [
    "# Masukkan list bahan yang ingin dikombinasikan\n",
    "list_bahan = {'Kopi','Foam','Sugar','Caramel','Salt','Boba'}\n",
    "\n",
    "# Masukkan jumlah bahan yang ingin dikombinasikan\n",
    "jumlah_kombinasi = 4\n",
    "\n",
    "n_eksperimen = 0\n",
    "# Cari kombinasinya\n",
    "list(combinations(list_bahan, jumlah_kombinasi))\n",
    "#enumerate(combinations(list_bahan, jumlah_kombinasi))\n",
    "for index, eksperimen in enumerate(combinations(list_bahan, jumlah_kombinasi)):\n",
    "    print(f\"kombinasi-{index+1} : {eksperimen}\")\n",
    "# Setiap ketemu kombinasi baru, nilai n_eksperimen ditambahkan dengan 1\n",
    "    n_eksperimen = n_eksperimen + 1\n",
    "\n",
    "# Hitung total cost yang dibutuhkan\n",
    "cost_per_eksperimen = 150_000\n",
    "total_cost = n_eksperimen * cost_per_eksperimen\n",
    "\n",
    "print(\"---\")\n",
    "print(f\"Cost yang diperlukan untuk melakukan {n_eksperimen} eksperimen adalah Rp {total_cost:,}\")"
   ]
  },
  {
   "cell_type": "markdown",
   "id": "55cc8693-ddec-4b99-b015-680ae6f97ac8",
   "metadata": {
    "tags": []
   },
   "source": [
    "### Case Study: Coffee shop (2 bahan yg diwajibkan)"
   ]
  },
  {
   "cell_type": "code",
   "execution_count": 91,
   "id": "54f50643-982d-47ed-b315-b501db7bc332",
   "metadata": {},
   "outputs": [
    {
     "name": "stdout",
     "output_type": "stream",
     "text": [
      "kombinasi-2 : ('Caramel', 'Salt', 'Boba', 'Kopi')\n",
      "kombinasi-7 : ('Caramel', 'Boba', 'Sugar', 'Kopi')\n",
      "kombinasi-9 : ('Caramel', 'Boba', 'Kopi', 'Foam')\n",
      "kombinasi-11 : ('Salt', 'Boba', 'Sugar', 'Kopi')\n",
      "kombinasi-13 : ('Salt', 'Boba', 'Kopi', 'Foam')\n",
      "kombinasi-15 : ('Boba', 'Sugar', 'Kopi', 'Foam')\n",
      "---\n",
      "Cost yang diperlukan untuk melakukan 6 eksperimen adalah Rp 750,000\n"
     ]
    }
   ],
   "source": [
    "# List bahan-bahan yang ada\n",
    "list_bahan = {'Kopi','Foam','Sugar','Caramel','Salt','Boba'}\n",
    "\n",
    "# List bahan wajib yang harus ada dalam tiap eksperimen\n",
    "bahan_wajib = {'Kopi', 'Boba'}\n",
    "\n",
    "# Masukkan jumlah bahan yang ingin dikombinasikan\n",
    "jumlah_kombinasi = 4\n",
    "\n",
    "# set nilai n_eksperimen sebagai variabel tempat menyimpan banyak eksperimen.\n",
    "n_eksperimen = 0\n",
    "\n",
    "# Lakukan pencarian kombinasi\n",
    "for index, eksperimen in enumerate(combinations(list_bahan, jumlah_kombinasi)):\n",
    "    # Lakukan seleksi apabila experiment berisi bahan wajib\n",
    "    if all(bahan in eksperimen for bahan in bahan_wajib):\n",
    "        print(f\"kombinasi-{index+1} : {eksperimen}\")\n",
    "    \n",
    "        # Setiap ketemu kombinasi baru, nilai n_eksperimen ditambahkan dengan 1\n",
    "        n_eksperimen = n_eksperimen + 1\n",
    "\n",
    "\n",
    "# Hitung total cost yang dibutuhkan\n",
    "cost_per_eksperimen = 125_000\n",
    "total_cost = n_eksperimen * cost_per_eksperimen\n",
    "\n",
    "print(\"---\")\n",
    "print(f\"Cost yang diperlukan untuk melakukan {n_eksperimen} eksperimen adalah Rp {total_cost:,}\")"
   ]
  },
  {
   "cell_type": "markdown",
   "id": "721c768f-d991-4654-b601-bf44365a9709",
   "metadata": {
    "tags": []
   },
   "source": [
    "# Probability Model"
   ]
  },
  {
   "cell_type": "raw",
   "id": "c598aa84-a87c-4a0c-87ce-04dbeaee13b9",
   "metadata": {},
   "source": [
    "Contoh 1\n",
    "A letter is chosen at random from the word “CHEERFUL.” What is the probability that it is a vowel?"
   ]
  },
  {
   "cell_type": "code",
   "execution_count": 3,
   "id": "55facca8-691a-474f-b8fc-34f6eb3aa9d9",
   "metadata": {},
   "outputs": [
    {
     "name": "stdout",
     "output_type": "stream",
     "text": [
      "0.375\n"
     ]
    }
   ],
   "source": [
    "n_E = 3\n",
    "n_S = 8\n",
    "P = n_E/n_S\n",
    "print(P)"
   ]
  },
  {
   "cell_type": "raw",
   "id": "d6f75de6-e5fe-4eca-b6e0-ea61bd7e05b8",
   "metadata": {},
   "source": [
    "Contoh 2\n",
    "Suppose you are eating at a pizza parlor with two friends. You have agreed to the following rule to decide who will pay the bill. Each person will toss a coin. The person who gets a result that is different from the other two will pay the bill. If all three tosses yield the same result, the bill will be shared by all. Find the probability that:\n",
    "\n",
    "a. Only you will have to pay.\n",
    "b. All three will share"
   ]
  },
  {
   "cell_type": "raw",
   "id": "2b70b869-c640-49e7-a493-2594258ba209",
   "metadata": {},
   "source": [
    "Contoh 3\n",
    "\n",
    "Birth rates in the 50 states, collected in a recent year by the Center for Health Statistics, are grouped into the following frequency table.\n",
    "\n",
    "Notes: Endpoint convention: Lower endpoint is included, upper endpoint is not\n",
    "\n",
    "a. Under 12.3?\n",
    "b. Under 14.3 but not under 10.3?\n",
    "c. 13.3 or over?"
   ]
  },
  {
   "cell_type": "code",
   "execution_count": 12,
   "id": "605630fc-30b6-4ab5-a822-ece1f47635ae",
   "metadata": {},
   "outputs": [
    {
     "data": {
      "text/html": [
       "<div>\n",
       "<style scoped>\n",
       "    .dataframe tbody tr th:only-of-type {\n",
       "        vertical-align: middle;\n",
       "    }\n",
       "\n",
       "    .dataframe tbody tr th {\n",
       "        vertical-align: top;\n",
       "    }\n",
       "\n",
       "    .dataframe thead th {\n",
       "        text-align: right;\n",
       "    }\n",
       "</style>\n",
       "<table border=\"1\" class=\"dataframe\">\n",
       "  <thead>\n",
       "    <tr style=\"text-align: right;\">\n",
       "      <th></th>\n",
       "      <th>Birthrate</th>\n",
       "      <th>No_states</th>\n",
       "    </tr>\n",
       "  </thead>\n",
       "  <tbody>\n",
       "    <tr>\n",
       "      <th>0</th>\n",
       "      <td>9.3-10.3</td>\n",
       "      <td>5</td>\n",
       "    </tr>\n",
       "    <tr>\n",
       "      <th>1</th>\n",
       "      <td>10.3-11.3</td>\n",
       "      <td>5</td>\n",
       "    </tr>\n",
       "    <tr>\n",
       "      <th>2</th>\n",
       "      <td>11.3-12.3</td>\n",
       "      <td>10</td>\n",
       "    </tr>\n",
       "    <tr>\n",
       "      <th>3</th>\n",
       "      <td>12.3-13.3</td>\n",
       "      <td>20</td>\n",
       "    </tr>\n",
       "    <tr>\n",
       "      <th>4</th>\n",
       "      <td>13.3-14.3</td>\n",
       "      <td>5</td>\n",
       "    </tr>\n",
       "    <tr>\n",
       "      <th>5</th>\n",
       "      <td>14.3 and over</td>\n",
       "      <td>5</td>\n",
       "    </tr>\n",
       "  </tbody>\n",
       "</table>\n",
       "</div>"
      ],
      "text/plain": [
       "       Birthrate  No_states\n",
       "0       9.3-10.3          5\n",
       "1      10.3-11.3          5\n",
       "2      11.3-12.3         10\n",
       "3      12.3-13.3         20\n",
       "4      13.3-14.3          5\n",
       "5  14.3 and over          5"
      ]
     },
     "execution_count": 12,
     "metadata": {},
     "output_type": "execute_result"
    }
   ],
   "source": [
    "import pandas as pd\n",
    "data = pd.DataFrame({'Birthrate':['9.3-10.3','10.3-11.3','11.3-12.3','12.3-13.3','13.3-14.3','14.3 and over'],\n",
    "                     'No_states':[5,5,10,20,5,5]})\n",
    "data"
   ]
  },
  {
   "cell_type": "code",
   "execution_count": 13,
   "id": "aa23a310-4076-4626-b089-4f2e4aa75c01",
   "metadata": {},
   "outputs": [
    {
     "name": "stdout",
     "output_type": "stream",
     "text": [
      "0.4\n"
     ]
    }
   ],
   "source": [
    "# Under 12.3\n",
    "n_E = data['No_states'][0:3].sum()\n",
    "n_S = data['No_states'].sum()\n",
    "P = n_E/n_S\n",
    "print(P)"
   ]
  },
  {
   "cell_type": "code",
   "execution_count": 14,
   "id": "b8ddd5ed-e6bc-4914-97b9-b4621f19c54c",
   "metadata": {},
   "outputs": [
    {
     "data": {
      "text/plain": [
       "0.8"
      ]
     },
     "execution_count": 14,
     "metadata": {},
     "output_type": "execute_result"
    }
   ],
   "source": [
    "# Under 14.3 but not under 10.3\n",
    "n_E = data['No_states'][1:5].sum()\n",
    "n_S = data['No_states'].sum()\n",
    "P = n_E/n_S\n",
    "P"
   ]
  },
  {
   "cell_type": "code",
   "execution_count": 15,
   "id": "dd026666-4438-4bc8-b1cb-1b094f3f22b5",
   "metadata": {},
   "outputs": [
    {
     "data": {
      "text/plain": [
       "0.2"
      ]
     },
     "execution_count": 15,
     "metadata": {},
     "output_type": "execute_result"
    }
   ],
   "source": [
    "# 13.3 or over?\n",
    "n_E = data['No_states'][4:6].sum()\n",
    "n_S = data['No_states'].sum()\n",
    "P = n_E/n_S\n",
    "P"
   ]
  },
  {
   "cell_type": "code",
   "execution_count": null,
   "id": "537e58c3-a6ff-48ed-b312-93eedb9798bd",
   "metadata": {},
   "outputs": [],
   "source": [
    "import pandas as pd\n",
    "import numpy as np\n",
    "df = pd.read_csv('https://raw.githubusercontent.com/guipsamora/pandas_exercises/master/04_Apply/Students_Alcohol_Consumption/student-mat.csv')\n",
    "df.head()"
   ]
  }
 ],
 "metadata": {
  "kernelspec": {
   "display_name": "Python 3 (ipykernel)",
   "language": "python",
   "name": "python3"
  },
  "language_info": {
   "codemirror_mode": {
    "name": "ipython",
    "version": 3
   },
   "file_extension": ".py",
   "mimetype": "text/x-python",
   "name": "python",
   "nbconvert_exporter": "python",
   "pygments_lexer": "ipython3",
   "version": "3.9.12"
  },
  "toc-autonumbering": true,
  "toc-showcode": false,
  "toc-showmarkdowntxt": true,
  "toc-showtags": true,
  "widgets": {
   "application/vnd.jupyter.widget-state+json": {
    "state": {},
    "version_major": 2,
    "version_minor": 0
   }
  }
 },
 "nbformat": 4,
 "nbformat_minor": 5
}
