{
 "cells": [
  {
   "cell_type": "code",
   "execution_count": 1,
   "id": "97a83ce2-68c8-4bdb-9b7c-80eea798bdf8",
   "metadata": {},
   "outputs": [],
   "source": [
    "n_A_happen = 60\n",
    "n_data = 500"
   ]
  },
  {
   "cell_type": "code",
   "execution_count": 2,
   "id": "4115a868-1a60-482b-b4c6-33cb9cb0f00d",
   "metadata": {},
   "outputs": [
    {
     "name": "stdout",
     "output_type": "stream",
     "text": [
      "Nilai Probability dari Perusahaan yang memiliki keuntungan dibawah 10 Juta adalah 0.12\n"
     ]
    }
   ],
   "source": [
    "p_A = n_A_happen / n_data\n",
    "print(f\"Nilai Probability dari Perusahaan yang memiliki keuntungan dibawah 10 Juta adalah {p_A}\")"
   ]
  },
  {
   "cell_type": "code",
   "execution_count": 11,
   "id": "af23da57-7dd8-4283-a8ac-30fba6cbdc86",
   "metadata": {
    "tags": []
   },
   "outputs": [],
   "source": [
    "##hitung union (dan) peluang p_b dan p_e\n",
    "n_b=100\n",
    "n_e=400\n",
    "n_data=500\n",
    "p_b=n_b/n_data\n",
    "p_e=n_e/n_data\n",
    "p_B_union_E = p_b+p_e"
   ]
  },
  {
   "cell_type": "code",
   "execution_count": 10,
   "id": "b6d1fcd8-9c18-4da0-bb5a-48745ed04565",
   "metadata": {
    "tags": []
   },
   "outputs": [
    {
     "name": "stdout",
     "output_type": "stream",
     "text": [
      "Nilai Probability nya adalah 1.0\n"
     ]
    }
   ],
   "source": [
    "print(f\"Nilai Probability nya adalah {p_B_union_E}\")"
   ]
  },
  {
   "cell_type": "code",
   "execution_count": 12,
   "id": "2b214205-862d-4a8c-9a09-7c42a975d9ed",
   "metadata": {},
   "outputs": [
    {
     "ename": "NameError",
     "evalue": "name 'simulasi_lempar_dua_dadu' is not defined",
     "output_type": "error",
     "traceback": [
      "\u001b[1;31m---------------------------------------------------------------------------\u001b[0m",
      "\u001b[1;31mNameError\u001b[0m                                 Traceback (most recent call last)",
      "Input \u001b[1;32mIn [12]\u001b[0m, in \u001b[0;36m<cell line: 2>\u001b[1;34m()\u001b[0m\n\u001b[0;32m      1\u001b[0m \u001b[38;5;66;03m#Conditional probability\u001b[39;00m\n\u001b[1;32m----> 2\u001b[0m \u001b[43msimulasi_lempar_dua_dadu\u001b[49m(jumlah_pelemparan\u001b[38;5;241m=\u001b[39m\u001b[38;5;241m10\u001b[39m)\n\u001b[0;32m      3\u001b[0m simulasi_lempar_dua_dadu(jumlah_pelemparan\u001b[38;5;241m=\u001b[39m\u001b[38;5;241m1000\u001b[39m)\n",
      "\u001b[1;31mNameError\u001b[0m: name 'simulasi_lempar_dua_dadu' is not defined"
     ]
    }
   ],
   "source": [
    "#Conditional probability\n",
    "simulasi_lempar_dua_dadu(jumlah_pelemparan=10)\n",
    "simulasi_lempar_dua_dadu(jumlah_pelemparan=1000)\n"
   ]
  },
  {
   "cell_type": "code",
   "execution_count": 3,
   "id": "55d5a273-22b1-456a-b767-1012c1d450ab",
   "metadata": {},
   "outputs": [
    {
     "name": "stdout",
     "output_type": "stream",
     "text": [
      "1\n",
      "2\n",
      "3\n",
      "4\n"
     ]
    }
   ],
   "source": [
    "for i in range(1,5):\n",
    "    print (i)\n"
   ]
  },
  {
   "cell_type": "code",
   "execution_count": 4,
   "id": "4ab564df-4397-43a0-aefa-1cd4ec3c2012",
   "metadata": {},
   "outputs": [
    {
     "name": "stdout",
     "output_type": "stream",
     "text": [
      "1\n",
      "3\n"
     ]
    }
   ],
   "source": [
    "for i in range(1,5,2):\n",
    "    print (i)\n"
   ]
  },
  {
   "cell_type": "code",
   "execution_count": 8,
   "id": "428c7bbe-3164-4b38-8382-1aee875baaf6",
   "metadata": {},
   "outputs": [
    {
     "name": "stdout",
     "output_type": "stream",
     "text": [
      "20\n",
      "18\n",
      "16\n",
      "14\n",
      "12\n",
      "10\n",
      "8\n",
      "6\n"
     ]
    }
   ],
   "source": [
    "for i in range(20,5,-2):\n",
    "    print (i)"
   ]
  },
  {
   "cell_type": "code",
   "execution_count": 9,
   "id": "4b6ea4bf-b5fa-43a8-be75-39d12b186b09",
   "metadata": {},
   "outputs": [
    {
     "name": "stdout",
     "output_type": "stream",
     "text": [
      "0\n",
      "1\n",
      "2\n",
      "3\n",
      "4\n"
     ]
    }
   ],
   "source": [
    "for i in range(5):\n",
    "    print (i)"
   ]
  },
  {
   "cell_type": "code",
   "execution_count": null,
   "id": "7c58b23f-0df9-4d0e-b988-463a6c2ed9bf",
   "metadata": {},
   "outputs": [],
   "source": []
  }
 ],
 "metadata": {
  "kernelspec": {
   "display_name": "Python 3 (ipykernel)",
   "language": "python",
   "name": "python3"
  },
  "language_info": {
   "codemirror_mode": {
    "name": "ipython",
    "version": 3
   },
   "file_extension": ".py",
   "mimetype": "text/x-python",
   "name": "python",
   "nbconvert_exporter": "python",
   "pygments_lexer": "ipython3",
   "version": "3.9.12"
  }
 },
 "nbformat": 4,
 "nbformat_minor": 5
}
